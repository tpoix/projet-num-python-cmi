{
 "cells": [
  {
   "cell_type": "markdown",
   "metadata": {},
   "source": [
    "# Projet numérique Python - CMI M1\n",
    "\n",
    "### Groupe : B\n",
    "### Sujet : Spectrométrie de masse\n",
    "\n",
    "Membres :\n",
    "\n",
    "- Sarah DELORD\n",
    "- Axelle MOREAU\n",
    "- Thomas POIX\n",
    "\n",
    "---"
   ]
  },
  {
   "cell_type": "markdown",
   "metadata": {},
   "source": [
    "#### Importation des fonction dans le fichier code source"
   ]
  },
  {
   "cell_type": "code",
   "execution_count": null,
   "metadata": {},
   "outputs": [],
   "source": [
    "from outils_molecule import trouver_molecule, affichage_resultat"
   ]
  },
  {
   "cell_type": "markdown",
   "metadata": {},
   "source": [
    "L'objectif de ce programme est de retrouver la structure associée d'une molécule à partr d'une masse mesurée par spectrométrie de masse. \n",
    "Ce qui est mesuré est en réalisé le rapport m/z : masse sur charge de la molécule. Il faut savoir que la charge d'une molécule est due à l'ajout de protons (H+). \n",
    "\n",
    "Plusieurs objectifs étaient prévus :\n",
    "\n",
    "    - Lire ou saisir les données concernant la masse des différents constituants de la molécule\n",
    "    - Calculer la masse théorique de la molécule et son rapport m/z\n",
    "    - Extraire la composition élémentaire de la molécule\n",
    "    - Construire une liste de candidats qui respecte les contraintes\n",
    "    - Comparer le rapport m/z mesuré expérimentalement aux valeurs d'une série de candidats potentiels."
   ]
  },
  {
   "cell_type": "markdown",
   "metadata": {},
   "source": [
    "Nous avons dû calculer le rapport m/z pour les molécules 1 à 21, pour cela nous avons réutilisé la formule présente dans le document Excel. Nous avons donc refait sur le document Excel : \n",
    "\n",
    "                                        (masse théorique x 2 (Masse Hydrogène))/2\n",
    "\n",
    "Nous avons récupéré les données complétées afin de les traiter sur Python. "
   ]
  },
  {
   "cell_type": "code",
   "execution_count": null,
   "metadata": {
    "scrolled": true
   },
   "outputs": [],
   "source": [
    "import pandas as pd\n",
    "molecules = pd.read_excel('Pyoverdine Germain Final.xlsx', header=1, sheet_name=\"Molécules\")\n",
    "molecules"
   ]
  },
  {
   "cell_type": "markdown",
   "metadata": {},
   "source": [
    "Nous avons ensuite commencé à travailler sur l'extraction des différentes possibilités pour une masse mesurée. Mais certaines conditions sont à remplir : \n",
    "\n",
    "    - Il faut forcément un chromophore mais un seul à chaque fois \n",
    "    - Il faut forcément une side chaine et une seule à chaque fois SAUF si on a Chr3 ou Chr4 (= ce sont des chromophores)\n",
    "    - ll faut que la teneur en azote soit égale à 14 dans la molécule finale \n",
    "    - Il faut donc forcément des acides aminés mais pas forcément des terminaisons ou des métaux \n",
    "    - Si cOH = 1 alors OH terminal = 0 "
   ]
  },
  {
   "cell_type": "markdown",
   "metadata": {},
   "source": [
    "Deux stratégies : \n",
    "\n",
    "    - tester toutes les possibilités\n",
    "    - optimiser les coefficients et varier des paramètres et voir si on se rapproche ou s'éloigne de la valeur cible "
   ]
  },
  {
   "cell_type": "markdown",
   "metadata": {},
   "source": [
    "Il faut assigner les masses théoriques à chaque élement.  \n",
    "\n",
    "Le résultat qu'on obtiendra devra être divisé par deux, un ou rien en fonction du niveau de ionisation connu de la molécule. Dans les trois exemples donnés ici c'est 2. "
   ]
  },
  {
   "cell_type": "markdown",
   "metadata": {},
   "source": [
    "#### Définition des masses expérimentales"
   ]
  },
  {
   "cell_type": "code",
   "execution_count": null,
   "metadata": {},
   "outputs": [],
   "source": [
    "masse_exp_1 = 607.7181\n",
    "masse_exp_2 = 593.24152\n",
    "masse_exp_3 = 607.2386"
   ]
  },
  {
   "cell_type": "markdown",
   "metadata": {},
   "source": [
    "#### Lancement de l'algorithme pour trouver les composition\n",
    "\n",
    "Nous avons donc opté pour la stratégie de tester toutes les possibilités.\n",
    "\n",
    "Attention : les cellules suivantes mettront beaucoup de temps pour s'exécuter étant donné le nombre conséquent de combinaisons possibles à étudier."
   ]
  },
  {
   "cell_type": "code",
   "execution_count": null,
   "metadata": {},
   "outputs": [],
   "source": [
    "resultats_1 = trouver_molecule(masse_exp_1)"
   ]
  },
  {
   "cell_type": "code",
   "execution_count": null,
   "metadata": {},
   "outputs": [],
   "source": [
    "resultats_2 = trouver_molecule(masse_exp_2)"
   ]
  },
  {
   "cell_type": "code",
   "execution_count": null,
   "metadata": {},
   "outputs": [],
   "source": [
    "resultats_3 = trouver_molecule(masse_exp_3)"
   ]
  },
  {
   "cell_type": "markdown",
   "metadata": {},
   "source": [
    "#### Affichage des résultats\n",
    "\n",
    "On pourra indiquer à l'algorithme si nous connaissons déjà le nombre d'un atome présent dans la molécule. (par ex: le nombre d'atomes d'azote)"
   ]
  },
  {
   "cell_type": "code",
   "execution_count": null,
   "metadata": {},
   "outputs": [],
   "source": [
    "affichage_resultat(resultats_1)"
   ]
  },
  {
   "cell_type": "code",
   "execution_count": null,
   "metadata": {},
   "outputs": [],
   "source": [
    "affichage_resultat(resultats_2)"
   ]
  },
  {
   "cell_type": "code",
   "execution_count": null,
   "metadata": {},
   "outputs": [],
   "source": [
    "affichage_resultat(resultats_3)"
   ]
  },
  {
   "cell_type": "markdown",
   "metadata": {},
   "source": [
    "La liste des candidats qui respecte les contraintes s'affiche donc sous la forme d'un DataFrame.<br>\n",
    "Ces candidats ont un rapport m/z qui est proche du rapport m/z mesuré expérimentalement (à 10^-5 près)"
   ]
  }
 ],
 "metadata": {
  "kernelspec": {
   "display_name": "Python 3",
   "language": "python",
   "name": "python3"
  },
  "language_info": {
   "codemirror_mode": {
    "name": "ipython",
    "version": 3
   },
   "file_extension": ".py",
   "mimetype": "text/x-python",
   "name": "python",
   "nbconvert_exporter": "python",
   "pygments_lexer": "ipython3",
   "version": "3.7.6"
  }
 },
 "nbformat": 4,
 "nbformat_minor": 5
}
