{
 "cells": [
  {
   "cell_type": "markdown",
   "metadata": {},
   "source": [
    "# Projet numérique Python - CMI M1\n",
    "\n",
    "### Groupe : B\n",
    "### Sujet : Spectrométrie de masse\n",
    "\n",
    "Membres :\n",
    "\n",
    "- Sarah DELORD\n",
    "- Axelle MOREAU\n",
    "- Thomas POIX\n",
    "\n",
    "---"
   ]
  },
  {
   "cell_type": "markdown",
   "metadata": {},
   "source": [
    "#### Importation des fonction dans le fichier code source"
   ]
  },
  {
   "cell_type": "code",
   "execution_count": null,
   "metadata": {},
   "outputs": [],
   "source": [
    "from outils_molecule import trouver_molecule, affichage_resultat"
   ]
  },
  {
   "cell_type": "markdown",
   "metadata": {},
   "source": [
    "#### Objectif\n",
    "\n",
    "Trois molécules ont été étudiées lors d'une expérience, et leurs masses ont été récupérées.<br>\n",
    "On ne connait pas la composition de ces molécules.<br>\n",
    "L'objectif de la fonction `trouver_molecule` est alors de trouver les molécules possibles pour ces masses expérimentales."
   ]
  },
  {
   "cell_type": "markdown",
   "metadata": {},
   "source": [
    "#### Définition des masses expérimentales"
   ]
  },
  {
   "cell_type": "code",
   "execution_count": null,
   "metadata": {},
   "outputs": [],
   "source": [
    "masse_exp_1 = 607.7181\n",
    "masse_exp_2 = 593.24152\n",
    "masse_exp_3 = 607.2386"
   ]
  },
  {
   "cell_type": "markdown",
   "metadata": {},
   "source": [
    "#### Lancement de l'algorithme pour trouver les composition\n",
    "\n",
    "Attention : les cellules suivantes mettront beaucoup de temps pour s'exécuter étant donné le nombre conséquent de combinaisons possibles à étudier."
   ]
  },
  {
   "cell_type": "code",
   "execution_count": null,
   "metadata": {},
   "outputs": [],
   "source": [
    "resultats_1 = trouver_molecule(masse_exp_1)"
   ]
  },
  {
   "cell_type": "code",
   "execution_count": null,
   "metadata": {},
   "outputs": [],
   "source": [
    "resultats_2 = trouver_molecule(masse_exp_2)"
   ]
  },
  {
   "cell_type": "code",
   "execution_count": null,
   "metadata": {},
   "outputs": [],
   "source": [
    "resultats_3 = trouver_molecule(masse_exp_3)"
   ]
  },
  {
   "cell_type": "markdown",
   "metadata": {},
   "source": [
    "#### Affichage des résultats\n",
    "\n",
    "On pourra indiquer à l'algorithme si nous connaissons déjà le nombre d'un atome présent dans la molécule. (par ex: le nombre d'atomes d'azote)"
   ]
  },
  {
   "cell_type": "code",
   "execution_count": null,
   "metadata": {},
   "outputs": [],
   "source": [
    "affichage_resultat(resultats_1)"
   ]
  },
  {
   "cell_type": "code",
   "execution_count": null,
   "metadata": {},
   "outputs": [],
   "source": [
    "affichage_resultat(resultats_2)"
   ]
  },
  {
   "cell_type": "code",
   "execution_count": null,
   "metadata": {},
   "outputs": [],
   "source": [
    "affichage_resultat(resultats_3)"
   ]
  },
  {
   "cell_type": "markdown",
   "metadata": {},
   "source": [
    "Les molécules pouvant avoir chacune des masses s'affichent donc dans trois DataFrame."
   ]
  }
 ],
 "metadata": {
  "kernelspec": {
   "display_name": "Python 3",
   "language": "python",
   "name": "python3"
  },
  "language_info": {
   "codemirror_mode": {
    "name": "ipython",
    "version": 3
   },
   "file_extension": ".py",
   "mimetype": "text/x-python",
   "name": "python",
   "nbconvert_exporter": "python",
   "pygments_lexer": "ipython3",
   "version": "3.7.6"
  }
 },
 "nbformat": 4,
 "nbformat_minor": 4
}
